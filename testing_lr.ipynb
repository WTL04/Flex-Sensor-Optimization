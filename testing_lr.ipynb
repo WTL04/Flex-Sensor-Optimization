{
 "cells": [
  {
   "cell_type": "code",
   "execution_count": 1,
   "id": "90d4a73b-b471-4aa4-84bb-05f5b72133ef",
   "metadata": {
    "scrolled": true
   },
   "outputs": [
    {
     "name": "stdout",
     "output_type": "stream",
     "text": [
      "Requirement already satisfied: numpy in /home/wtl04/coding/gpt/venv/lib/python3.13/site-packages (from -r req.txt (line 1)) (2.2.5)\n",
      "Requirement already satisfied: pandas in /home/wtl04/coding/gpt/venv/lib/python3.13/site-packages (from -r req.txt (line 2)) (2.2.3)\n",
      "Requirement already satisfied: matplotlib in /home/wtl04/coding/gpt/venv/lib/python3.13/site-packages (from -r req.txt (line 3)) (3.10.3)\n",
      "Requirement already satisfied: scikit-learn in /home/wtl04/coding/gpt/venv/lib/python3.13/site-packages (from -r req.txt (line 4)) (1.6.1)\n",
      "Requirement already satisfied: xgboost in /home/wtl04/coding/gpt/venv/lib/python3.13/site-packages (from -r req.txt (line 5)) (3.0.2)\n",
      "Requirement already satisfied: torch in /home/wtl04/coding/gpt/venv/lib/python3.13/site-packages (from -r req.txt (line 6)) (2.7.0)\n",
      "Requirement already satisfied: seaborn in /home/wtl04/coding/gpt/venv/lib/python3.13/site-packages (from -r req.txt (line 7)) (0.13.2)\n",
      "Requirement already satisfied: statsmodels in /home/wtl04/coding/gpt/venv/lib/python3.13/site-packages (from -r req.txt (line 8)) (0.14.4)\n",
      "Requirement already satisfied: python-dateutil>=2.8.2 in /home/wtl04/coding/gpt/venv/lib/python3.13/site-packages (from pandas->-r req.txt (line 2)) (2.9.0.post0)\n",
      "Requirement already satisfied: pytz>=2020.1 in /home/wtl04/coding/gpt/venv/lib/python3.13/site-packages (from pandas->-r req.txt (line 2)) (2025.2)\n",
      "Requirement already satisfied: tzdata>=2022.7 in /home/wtl04/coding/gpt/venv/lib/python3.13/site-packages (from pandas->-r req.txt (line 2)) (2025.2)\n",
      "Requirement already satisfied: contourpy>=1.0.1 in /home/wtl04/coding/gpt/venv/lib/python3.13/site-packages (from matplotlib->-r req.txt (line 3)) (1.3.2)\n",
      "Requirement already satisfied: cycler>=0.10 in /home/wtl04/coding/gpt/venv/lib/python3.13/site-packages (from matplotlib->-r req.txt (line 3)) (0.12.1)\n",
      "Requirement already satisfied: fonttools>=4.22.0 in /home/wtl04/coding/gpt/venv/lib/python3.13/site-packages (from matplotlib->-r req.txt (line 3)) (4.58.1)\n",
      "Requirement already satisfied: kiwisolver>=1.3.1 in /home/wtl04/coding/gpt/venv/lib/python3.13/site-packages (from matplotlib->-r req.txt (line 3)) (1.4.8)\n",
      "Requirement already satisfied: packaging>=20.0 in /home/wtl04/coding/gpt/venv/lib/python3.13/site-packages (from matplotlib->-r req.txt (line 3)) (25.0)\n",
      "Requirement already satisfied: pillow>=8 in /home/wtl04/coding/gpt/venv/lib/python3.13/site-packages (from matplotlib->-r req.txt (line 3)) (11.2.1)\n",
      "Requirement already satisfied: pyparsing>=2.3.1 in /home/wtl04/coding/gpt/venv/lib/python3.13/site-packages (from matplotlib->-r req.txt (line 3)) (3.2.3)\n",
      "Requirement already satisfied: scipy>=1.6.0 in /home/wtl04/coding/gpt/venv/lib/python3.13/site-packages (from scikit-learn->-r req.txt (line 4)) (1.15.3)\n",
      "Requirement already satisfied: joblib>=1.2.0 in /home/wtl04/coding/gpt/venv/lib/python3.13/site-packages (from scikit-learn->-r req.txt (line 4)) (1.5.1)\n",
      "Requirement already satisfied: threadpoolctl>=3.1.0 in /home/wtl04/coding/gpt/venv/lib/python3.13/site-packages (from scikit-learn->-r req.txt (line 4)) (3.6.0)\n",
      "Requirement already satisfied: nvidia-nccl-cu12 in /home/wtl04/coding/gpt/venv/lib/python3.13/site-packages (from xgboost->-r req.txt (line 5)) (2.26.2)\n",
      "Requirement already satisfied: filelock in /home/wtl04/coding/gpt/venv/lib/python3.13/site-packages (from torch->-r req.txt (line 6)) (3.18.0)\n",
      "Requirement already satisfied: typing-extensions>=4.10.0 in /home/wtl04/coding/gpt/venv/lib/python3.13/site-packages (from torch->-r req.txt (line 6)) (4.13.2)\n",
      "Requirement already satisfied: setuptools in /home/wtl04/coding/gpt/venv/lib/python3.13/site-packages (from torch->-r req.txt (line 6)) (80.4.0)\n",
      "Requirement already satisfied: sympy>=1.13.3 in /home/wtl04/coding/gpt/venv/lib/python3.13/site-packages (from torch->-r req.txt (line 6)) (1.14.0)\n",
      "Requirement already satisfied: networkx in /home/wtl04/coding/gpt/venv/lib/python3.13/site-packages (from torch->-r req.txt (line 6)) (3.4.2)\n",
      "Requirement already satisfied: jinja2 in /home/wtl04/coding/gpt/venv/lib/python3.13/site-packages (from torch->-r req.txt (line 6)) (3.1.6)\n",
      "Requirement already satisfied: fsspec in /home/wtl04/coding/gpt/venv/lib/python3.13/site-packages (from torch->-r req.txt (line 6)) (2025.3.2)\n",
      "Requirement already satisfied: nvidia-cuda-nvrtc-cu12==12.6.77 in /home/wtl04/coding/gpt/venv/lib/python3.13/site-packages (from torch->-r req.txt (line 6)) (12.6.77)\n",
      "Requirement already satisfied: nvidia-cuda-runtime-cu12==12.6.77 in /home/wtl04/coding/gpt/venv/lib/python3.13/site-packages (from torch->-r req.txt (line 6)) (12.6.77)\n",
      "Requirement already satisfied: nvidia-cuda-cupti-cu12==12.6.80 in /home/wtl04/coding/gpt/venv/lib/python3.13/site-packages (from torch->-r req.txt (line 6)) (12.6.80)\n",
      "Requirement already satisfied: nvidia-cudnn-cu12==9.5.1.17 in /home/wtl04/coding/gpt/venv/lib/python3.13/site-packages (from torch->-r req.txt (line 6)) (9.5.1.17)\n",
      "Requirement already satisfied: nvidia-cublas-cu12==12.6.4.1 in /home/wtl04/coding/gpt/venv/lib/python3.13/site-packages (from torch->-r req.txt (line 6)) (12.6.4.1)\n",
      "Requirement already satisfied: nvidia-cufft-cu12==11.3.0.4 in /home/wtl04/coding/gpt/venv/lib/python3.13/site-packages (from torch->-r req.txt (line 6)) (11.3.0.4)\n",
      "Requirement already satisfied: nvidia-curand-cu12==10.3.7.77 in /home/wtl04/coding/gpt/venv/lib/python3.13/site-packages (from torch->-r req.txt (line 6)) (10.3.7.77)\n",
      "Requirement already satisfied: nvidia-cusolver-cu12==11.7.1.2 in /home/wtl04/coding/gpt/venv/lib/python3.13/site-packages (from torch->-r req.txt (line 6)) (11.7.1.2)\n",
      "Requirement already satisfied: nvidia-cusparse-cu12==12.5.4.2 in /home/wtl04/coding/gpt/venv/lib/python3.13/site-packages (from torch->-r req.txt (line 6)) (12.5.4.2)\n",
      "Requirement already satisfied: nvidia-cusparselt-cu12==0.6.3 in /home/wtl04/coding/gpt/venv/lib/python3.13/site-packages (from torch->-r req.txt (line 6)) (0.6.3)\n",
      "Requirement already satisfied: nvidia-nvtx-cu12==12.6.77 in /home/wtl04/coding/gpt/venv/lib/python3.13/site-packages (from torch->-r req.txt (line 6)) (12.6.77)\n",
      "Requirement already satisfied: nvidia-nvjitlink-cu12==12.6.85 in /home/wtl04/coding/gpt/venv/lib/python3.13/site-packages (from torch->-r req.txt (line 6)) (12.6.85)\n",
      "Requirement already satisfied: nvidia-cufile-cu12==1.11.1.6 in /home/wtl04/coding/gpt/venv/lib/python3.13/site-packages (from torch->-r req.txt (line 6)) (1.11.1.6)\n",
      "Requirement already satisfied: triton==3.3.0 in /home/wtl04/coding/gpt/venv/lib/python3.13/site-packages (from torch->-r req.txt (line 6)) (3.3.0)\n",
      "Requirement already satisfied: patsy>=0.5.6 in /home/wtl04/coding/gpt/venv/lib/python3.13/site-packages (from statsmodels->-r req.txt (line 8)) (1.0.1)\n",
      "Requirement already satisfied: six>=1.5 in /home/wtl04/coding/gpt/venv/lib/python3.13/site-packages (from python-dateutil>=2.8.2->pandas->-r req.txt (line 2)) (1.17.0)\n",
      "Requirement already satisfied: mpmath<1.4,>=1.1.0 in /home/wtl04/coding/gpt/venv/lib/python3.13/site-packages (from sympy>=1.13.3->torch->-r req.txt (line 6)) (1.3.0)\n",
      "Requirement already satisfied: MarkupSafe>=2.0 in /home/wtl04/coding/gpt/venv/lib/python3.13/site-packages (from jinja2->torch->-r req.txt (line 6)) (3.0.2)\n",
      "Note: you may need to restart the kernel to use updated packages.\n"
     ]
    }
   ],
   "source": [
    "%pip install -r req.txt"
   ]
  },
  {
   "cell_type": "code",
   "execution_count": 2,
   "id": "2a809d6b-6cbf-4206-b826-7fa7e1f13c3f",
   "metadata": {},
   "outputs": [],
   "source": [
    "# Core libraries\n",
    "import numpy as np\n",
    "import pandas as pd\n",
    "import matplotlib.pyplot as plt\n",
    "import seaborn as sns\n",
    "\n",
    "# Model training & pipelines\n",
    "from sklearn.model_selection import train_test_split, RandomizedSearchCV, cross_val_score, cross_val_predict\n",
    "\n",
    "from sklearn.pipeline import make_pipeline\n",
    "from sklearn.preprocessing import PolynomialFeatures, StandardScaler\n",
    "\n",
    "# Models\n",
    "from sklearn.linear_model import LinearRegression, RidgeCV\n",
    "from sklearn.ensemble import RandomForestRegressor, StackingRegressor\n",
    "from sklearn.gaussian_process import GaussianProcessRegressor\n",
    "from sklearn.gaussian_process.kernels import RationalQuadratic, WhiteKernel, ConstantKernel as C\n",
    "# from sklearn.gaussian_process.kernels import RBF, ConstantKernel as C, WhiteKernel\n",
    "from xgboost import XGBRegressor\n",
    "\n",
    "# Testing\n",
    "import statsmodels.api as sm\n",
    "\n",
    "# Metrics\n",
    "from sklearn.metrics import r2_score, mean_absolute_error, mean_squared_error"
   ]
  },
  {
   "cell_type": "code",
   "execution_count": 3,
   "id": "be3958b4-b1ef-436b-8b2e-d7034ba5d100",
   "metadata": {},
   "outputs": [
    {
     "name": "stdout",
     "output_type": "stream",
     "text": [
      "   Angle (degrees)  Resistance (kÎ©)\n",
      "0              165             22.07\n",
      "1              116             17.14\n",
      "2              117             17.21\n",
      "3              180             20.36\n",
      "4              180             20.00\n",
      "Missing values:\n",
      " Angle (degrees)     0\n",
      "Resistance (kÎ©)    0\n",
      "dtype: int64\n",
      "Data types:\n",
      " Angle (degrees)       int64\n",
      "Resistance (kÎ©)    float64\n",
      "dtype: object\n"
     ]
    }
   ],
   "source": [
    "# Load the datasets\n",
    "file1 = \"datasets/flex_sensor_data.csv\"\n",
    "\n",
    "df1 = pd.read_csv(file1)\n",
    "\n",
    "# Concatenate the DataFrames\n",
    "df = pd.concat([df1], ignore_index=True)  # `ignore_index=True` resets the index\n",
    "\n",
    "# Shuffle the DataFrame\n",
    "df = df.sample(frac=1, random_state=42).reset_index(drop=True)  # Shuffle and reset index\n",
    "\n",
    "# Display first few rows\n",
    "print(df.head())\n",
    "\n",
    "# Check for missing values\n",
    "print(\"Missing values:\\n\", df.isnull().sum())\n",
    "\n",
    "# Check data types\n",
    "print(\"Data types:\\n\", df.dtypes)"
   ]
  },
  {
   "cell_type": "code",
   "execution_count": 4,
   "id": "d2d98124-7b63-42d4-8103-21d4fcfba5e3",
   "metadata": {},
   "outputs": [],
   "source": [
    "# Define features (X) and target variable (y)\n",
    "X = df.drop(columns=['Angle (degrees)'])  # Replace 'TargetColumn' with the actual column name\n",
    "y = df['Angle (degrees)']\n",
    "\n",
    "# Split data into training and test sets (80/20)\n",
    "X_train, X_test, y_train, y_test = train_test_split(X, y, test_size=0.2, random_state=42)\n",
    "\n",
    "# Standardize the features (optional, based on sensor value range)\n",
    "scaler = StandardScaler()\n",
    "X_train = scaler.fit_transform(X_train)\n",
    "X_test = scaler.transform(X_test)"
   ]
  },
  {
   "cell_type": "markdown",
   "id": "746918eb-3d93-489c-9bb0-2ae63d2a538f",
   "metadata": {},
   "source": [
    "# Training"
   ]
  },
  {
   "cell_type": "code",
   "execution_count": 5,
   "id": "0d9813a1-616d-4fe5-bd96-eded6aac814c",
   "metadata": {},
   "outputs": [],
   "source": [
    "X_train_sm = sm.add_constant(X_train)\n",
    "X_test_sm = sm.add_constant(X_test)"
   ]
  },
  {
   "cell_type": "code",
   "execution_count": 6,
   "id": "ae18c286-8ede-4676-9e98-2b51b10a9f2f",
   "metadata": {},
   "outputs": [],
   "source": [
    "# Step 1: Fit an initial OLS model\n",
    "ols_model = sm.OLS(y_train, X_train_sm).fit()\n",
    "\n",
    "# Step 2: Estimate residuals and compute weights\n",
    "residuals = ols_model.resid\n",
    "weights = 1 / (residuals ** 2 + 1e-8)  # Add small epsilon to avoid divide-by-zero\n",
    "\n",
    "# Step 3: Fit WLS model\n",
    "model = sm.WLS(y_train, X_train_sm, weights=weights).fit()"
   ]
  },
  {
   "cell_type": "code",
   "execution_count": 7,
   "id": "ca9211ed-7170-4b4c-98e0-a97b96c6c8cc",
   "metadata": {
    "jupyter": {
     "source_hidden": true
    }
   },
   "outputs": [],
   "source": [
    "# Generate prediction object\n",
    "predictions = model.get_prediction(X_test_sm)\n",
    "\n",
    "# Get full summary frame as DataFrame\n",
    "summary_df = predictions.summary_frame(alpha=0.05)"
   ]
  },
  {
   "cell_type": "markdown",
   "id": "f70c74ac-58df-496a-8a89-9d238ec920e8",
   "metadata": {},
   "source": [
    "# Testing"
   ]
  },
  {
   "cell_type": "code",
   "execution_count": 8,
   "id": "a0f4dc7a-a403-4c2e-b0e9-02cf11ff4e14",
   "metadata": {},
   "outputs": [
    {
     "name": "stdout",
     "output_type": "stream",
     "text": [
      "\n",
      "📊 WLS Model Evaluation:\n",
      "MAE: 9.4911\n",
      "MSE: 175.6335\n",
      "RMSE: 13.2527\n",
      "R²: 0.9331\n",
      "Adjusted R²: 0.9327\n"
     ]
    }
   ],
   "source": [
    "y_pred = model.predict(X_test_sm)\n",
    "\n",
    "mse = mean_squared_error(y_test, y_pred)\n",
    "rmse = np.sqrt(mse)\n",
    "mae = mean_absolute_error(y_test, y_pred)\n",
    "r2 = r2_score(y_test, y_pred)\n",
    "n, p = X_test.shape\n",
    "adjusted_r2 = 1 - (1 - r2) * (n - 1) / (n - p - 1)\n",
    "\n",
    "print(f\"\\n📊 WLS Model Evaluation:\")\n",
    "print(f\"MAE: {mae:.4f}\")\n",
    "print(f\"MSE: {mse:.4f}\")\n",
    "print(f\"RMSE: {rmse:.4f}\")\n",
    "print(f\"R²: {r2:.4f}\")\n",
    "print(f\"Adjusted R²: {adjusted_r2:.4f}\")"
   ]
  },
  {
   "cell_type": "code",
   "execution_count": 9,
   "id": "da018e21-c079-4b3d-a954-dc8ceddf36e5",
   "metadata": {},
   "outputs": [],
   "source": [
    "# Get full prediction result with uncertainty\n",
    "predictions = model.get_prediction(X_test_sm)\n",
    "summary = predictions.summary_frame(alpha=0.05)  # 95% CI"
   ]
  },
  {
   "cell_type": "code",
   "execution_count": 20,
   "id": "b0ec546e-06c0-4455-a352-ab834f9f5083",
   "metadata": {},
   "outputs": [],
   "source": [
    "X_test_df = X_test_df.reset_index(drop=True)\n",
    "y_test_series = pd.Series(y_test).reset_index(drop=True)\n",
    "\n",
    "X_test_df = pd.DataFrame(X_test, columns=X.columns)\n",
    "X_test_df['y_pred'] = wls_summary['mean']\n",
    "X_test_df['uncertainty'] = wls_summary['obs_ci_upper'] - wls_summary['obs_ci_lower'] # calculating uncertainity given a new prediction\n",
    "X_test_df['y_true'] = y_test_series"
   ]
  },
  {
   "cell_type": "code",
   "execution_count": 22,
   "id": "60fa4734-4bf7-4d5f-8367-c94b634c95e0",
   "metadata": {},
   "outputs": [
    {
     "name": "stdout",
     "output_type": "stream",
     "text": [
      "✅ Saved uncertainity to 'testing.csv'\n"
     ]
    }
   ],
   "source": [
    "X_test_df.to_csv(\"datasets/testing.csv\", index=False)\n",
    "print(\"✅ Saved uncertainity to 'testing.csv'\")\n"
   ]
  },
  {
   "cell_type": "code",
   "execution_count": 24,
   "id": "fe48e47e-3c4c-4450-b8a0-e192de84719e",
   "metadata": {},
   "outputs": [
    {
     "data": {
      "image/png": "[encoded data removed]",
      "text/plain": [
       "<Figure size 1000x500 with 1 Axes>"
      ]
     },
     "metadata": {},
     "output_type": "display_data"
    }
   ],
   "source": [
    "plt.figure(figsize=(10, 5))\n",
    "plt.scatter(X_test_df['y_pred'], X_test_df['uncertainty'], alpha=0.6)\n",
    "plt.xlabel(\"Predicted Value\")\n",
    "plt.ylabel(\"Prediction Interval Width (Uncertainty)\")\n",
    "plt.title(\"Uncertainty vs Prediction\")\n",
    "plt.grid(True)\n",
    "plt.show()"
   ]
  },
  {
   "cell_type": "code",
   "execution_count": null,
   "id": "2be827b5-3a5f-49cc-9b24-c6549234d9c8",
   "metadata": {},
   "outputs": [],
   "source": []
  }
 ],
 "metadata": {
  "kernelspec": {
   "display_name": "Python (myvenv)",
   "language": "python",
   "name": "myvenv"
  },
  "language_info": {
   "codemirror_mode": {
    "name": "ipython",
    "version": 3
   },
   "file_extension": ".py",
   "mimetype": "text/x-python",
   "name": "python",
   "nbconvert_exporter": "python",
   "pygments_lexer": "ipython3",
   "version": "3.13.3"
  }
 },
 "nbformat": 4,
 "nbformat_minor": 5
}
